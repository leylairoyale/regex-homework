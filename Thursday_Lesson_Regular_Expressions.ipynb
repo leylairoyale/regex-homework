{
 "cells": [
  {
   "cell_type": "markdown",
   "metadata": {},
   "source": [
    "# Regular Expressions"
   ]
  },
  {
   "cell_type": "markdown",
   "metadata": {},
   "source": [
    "# Tasks today:\n",
    "1) <b>Importing</b> <br>\n",
    "2) <b>Using Regular Expressions</b> <br>\n",
    " &nbsp;&nbsp;&nbsp;&nbsp; a) re.compile() <br>\n",
    " &nbsp;&nbsp;&nbsp;&nbsp; b) re.match() <br>\n",
    " &nbsp;&nbsp;&nbsp;&nbsp; c) re.findall() <br>\n",
    " &nbsp;&nbsp;&nbsp;&nbsp; d) re.search() <br>\n",
    "3) <b>Sets</b> <br>\n",
    " &nbsp;&nbsp;&nbsp;&nbsp; a) Integer Ranges <br>\n",
    " &nbsp;&nbsp;&nbsp;&nbsp; b) Character Ranges <br>\n",
    "4) <b>Counting Occurences</b> <br>\n",
    " &nbsp;&nbsp;&nbsp;&nbsp; a) {x} <br>\n",
    " &nbsp;&nbsp;&nbsp;&nbsp; b) {, x} <br>\n",
    " &nbsp;&nbsp;&nbsp;&nbsp; c) {?} <br>\n",
    " &nbsp;&nbsp;&nbsp;&nbsp; d) {*} <br>\n",
    " &nbsp;&nbsp;&nbsp;&nbsp; e) {+} <br>\n",
    "5) <b>In-Class Exercise #1</b> <br>\n",
    "6) <b>Escaping Characters</b> <br>\n",
    "7) <b>Grouping</b> <br>\n",
    "8) <b>In-Class Exercise #2</b> <br>\n",
    "9) <b>Opening a File</b> <br>\n",
    " &nbsp;&nbsp;&nbsp;&nbsp; a) open() <br>\n",
    " &nbsp;&nbsp;&nbsp;&nbsp; b) with open() <br>\n",
    " &nbsp;&nbsp;&nbsp;&nbsp; c) re.match() <br>\n",
    " &nbsp;&nbsp;&nbsp;&nbsp; d) re.search() <br>\n",
    " &nbsp;&nbsp;&nbsp;&nbsp; e) Store the String in a Variable <br>\n",
    "10) <b>Regex Project</b> <br>"
   ]
  },
  {
   "cell_type": "markdown",
   "metadata": {},
   "source": [
    "### Importing <br>\n",
    "<p>Regular Expressions are universal throughout most programming languages... They are generally imported through the module 're'.</p>"
   ]
  },
  {
   "cell_type": "code",
   "execution_count": 3,
   "metadata": {},
   "outputs": [],
   "source": [
    "# import re\n",
    "import re"
   ]
  },
  {
   "cell_type": "markdown",
   "metadata": {},
   "source": [
    "### Using Regular Expressions <br>\n",
    "<p>Regular expressions give us the ability to search for patterns within text, strings, files, etc. They serve several uses, such as; security measures, searching, filtering, pattern recognition, and more...</p>"
   ]
  },
  {
   "cell_type": "markdown",
   "metadata": {},
   "source": [
    "##### re.compile()"
   ]
  },
  {
   "cell_type": "code",
   "execution_count": 155,
   "metadata": {},
   "outputs": [],
   "source": [
    "# using compile, pre determines the string to be used in regular expression methods\n",
    "\n",
    "p = re.compile('abc')"
   ]
  },
  {
   "cell_type": "markdown",
   "metadata": {},
   "source": [
    "##### re.match()"
   ]
  },
  {
   "cell_type": "code",
   "execution_count": 156,
   "metadata": {},
   "outputs": [
    {
     "name": "stdout",
     "output_type": "stream",
     "text": [
      "<re.Match object; span=(0, 3), match='abc'>\n",
      "True\n",
      "None\n"
     ]
    }
   ],
   "source": [
    "# match searches at the beginning of a string\n",
    "\n",
    "match = p.match('abc123')\n",
    "print(match) # that shows you where the abc match is located. \n",
    "print(bool(match)) # Match returns a True if the value found in compile is available at the beginning / It then returns a NoneType if nothing is found\n",
    "\n",
    "match = p.match('123abc')\n",
    "\n",
    "print(match) #that is a none cause it's searching for 123abc when there's only abc123.\n",
    "#this will only look for the first instance of what you want, not anything else. "
   ]
  },
  {
   "cell_type": "markdown",
   "metadata": {},
   "source": [
    "##### re.findall()"
   ]
  },
  {
   "cell_type": "code",
   "execution_count": 7,
   "metadata": {},
   "outputs": [
    {
     "name": "stdout",
     "output_type": "stream",
     "text": [
      "['abc', 'abc']\n"
     ]
    }
   ],
   "source": [
    "# find all returns all matches in a list\n",
    "\n",
    "found = p.findall('123abc abc123')\n",
    "\n",
    "print(found)"
   ]
  },
  {
   "cell_type": "markdown",
   "metadata": {},
   "source": [
    "##### re.search()"
   ]
  },
  {
   "cell_type": "code",
   "execution_count": 10,
   "metadata": {},
   "outputs": [
    {
     "name": "stdout",
     "output_type": "stream",
     "text": [
      "<re.Match object; span=(0, 3), match='abc'>\n",
      "<re.Match object; span=(12, 15), match='abc'>\n",
      "abc\n"
     ]
    }
   ],
   "source": [
    "## returns a span of indexes for the first match\n",
    "\n",
    "s = '123 123 234 abc'\n",
    "\n",
    "stringSearch = \"abc 123 456 abc\"\n",
    "\n",
    "search = p.search(s)\n",
    "stringsearching = p.search(stringSearch)\n",
    "print(stringsearching)\n",
    "\n",
    "print(search)\n",
    "\n",
    "span = search.span()\n",
    "otherspan = stringsearching.span()\n",
    "\n",
    "print(s[span[0]: span[1]])"
   ]
  },
  {
   "cell_type": "markdown",
   "metadata": {},
   "source": [
    "### Sets <br>\n",
    "<p>The following cells will allow you to use regular expressions to search for certain values within a range such as numbers 1 through 4.</p>"
   ]
  },
  {
   "cell_type": "markdown",
   "metadata": {},
   "source": [
    "##### [a-z] or [A-Z] - any lowercase/uppercase letters from a to z<br/>[^2] - anything that's not 2"
   ]
  },
  {
   "cell_type": "markdown",
   "metadata": {},
   "source": [
    "##### Integer Ranges"
   ]
  },
  {
   "cell_type": "code",
   "execution_count": 12,
   "metadata": {},
   "outputs": [
    {
     "name": "stdout",
     "output_type": "stream",
     "text": [
      "['67', '38']\n"
     ]
    }
   ],
   "source": [
    "# Step #1: Create your pre-compiled variable to use\n",
    "p = re.compile('[0-7][7-9]') #Find sets of numbers that have an occurace of 0 through 7 and 7 through 9\n",
    "# Step #2: Performsearch or find methods\n",
    "found = p.findall('67383')\n",
    "#slo this is printing anything where the first char is between 0-7 and the second 7-9\n",
    "\n",
    "print(found)"
   ]
  },
  {
   "cell_type": "markdown",
   "metadata": {},
   "source": [
    "##### Character Ranges"
   ]
  },
  {
   "cell_type": "code",
   "execution_count": 13,
   "metadata": {},
   "outputs": [
    {
     "name": "stdout",
     "output_type": "stream",
     "text": [
      "['He', 'Mr', 'An']\n"
     ]
    }
   ],
   "source": [
    "# Step #1: Create your pre-compiled variable to use\n",
    "p = re.compile('[A-Z][a-z]') #Find the occurances of letters where the combination is Upper and lowercase letters\n",
    "\n",
    "# Step #2: Perform search or find methods\n",
    "found = p.findall('Hello there Mr. Anderson00')\n",
    "\n",
    "print(found)"
   ]
  },
  {
   "cell_type": "markdown",
   "metadata": {},
   "source": [
    "### Counting Occurences"
   ]
  },
  {
   "cell_type": "markdown",
   "metadata": {},
   "source": [
    "##### {x} - something that occurs {num_of_times}"
   ]
  },
  {
   "cell_type": "code",
   "execution_count": 14,
   "metadata": {},
   "outputs": [
    {
     "name": "stdout",
     "output_type": "stream",
     "text": [
      "['mm']\n"
     ]
    }
   ],
   "source": [
    "p = re.compile('m{2}') #Find the number of times m occurs in a string\n",
    "\n",
    "found = p.findall('This is an example of regular expressions trying to find two mm in a row')\n",
    "\n",
    "print(found)"
   ]
  },
  {
   "cell_type": "markdown",
   "metadata": {},
   "source": [
    "##### {x, x} - something that occurs between x and x times"
   ]
  },
  {
   "cell_type": "code",
   "execution_count": 15,
   "metadata": {},
   "outputs": [
    {
     "name": "stdout",
     "output_type": "stream",
     "text": [
      "['m', 'm', 'mm', 'mmm']\n"
     ]
    }
   ],
   "source": [
    "p = re.compile('m{1,3}') #Find the number of times m occurs in succession 1, 2 or 3 times\n",
    "\n",
    "found = p.findall('This is an example of regular expressions trying to find one m, two mm and three mmm in a row')\n",
    "\n",
    "print(found)"
   ]
  },
  {
   "cell_type": "markdown",
   "metadata": {},
   "source": [
    "##### ? - something that occurs 0 or 1 time"
   ]
  },
  {
   "cell_type": "code",
   "execution_count": 18,
   "metadata": {},
   "outputs": [
    {
     "name": "stdout",
     "output_type": "stream",
     "text": [
      "['Ms', 'M']\n"
     ]
    }
   ],
   "source": [
    "p = re.compile('Ms?')\n",
    "\n",
    "found = p.findall('Hello there Ms. Anderson, how is Mr. Anderson')\n",
    "\n",
    "print(found)"
   ]
  },
  {
   "cell_type": "markdown",
   "metadata": {},
   "source": [
    "##### * - something that occurs at least 0 times"
   ]
  },
  {
   "cell_type": "code",
   "execution_count": 27,
   "metadata": {},
   "outputs": [
    {
     "name": "stdout",
     "output_type": "stream",
     "text": [
      "['M', 'Ms', 'Msssssssssssssssssssss']\n"
     ]
    }
   ],
   "source": [
    "p = re.compile('Ms*') #Find all occurances of capital M and lowercase s regardless of if they are next to each other or not\n",
    "\n",
    "found = p.findall('My name is Ms. Smith. This is Msssssssssssssssssssss')\n",
    "\n",
    "print(found)"
   ]
  },
  {
   "cell_type": "markdown",
   "metadata": {},
   "source": [
    "##### + - something that occurs at least once"
   ]
  },
  {
   "cell_type": "code",
   "execution_count": 158,
   "metadata": {},
   "outputs": [
    {
     "name": "stdout",
     "output_type": "stream",
     "text": [
      "['Ms', 'MMMMMMMMMMMs']\n",
      "['1991', '2019']\n"
     ]
    }
   ],
   "source": [
    "p = re.compile('M+s')\n",
    "\n",
    "found = p.findall('My name is Ms. Smith. This is MMMMMMMMMMMsssssssssssssssssssss')\n",
    "\n",
    "print(found)\n",
    "\n",
    "\n",
    "# using sets and occurences together\n",
    "\n",
    "p = re.compile('[0-9]{4}') #Find a set of numbers between 0-9 that occur in succession of a set of 4\n",
    "\n",
    "\n",
    "found = p.findall('1991 was a year, but 199 is not. Today is February 7th, 2019')\n",
    "\n",
    "print(found)"
   ]
  },
  {
   "cell_type": "markdown",
   "metadata": {},
   "source": [
    "##### In-class exercise 1: \n",
    "\n",
    "Use a regular expression to find every number in the given string"
   ]
  },
  {
   "cell_type": "code",
   "execution_count": 157,
   "metadata": {},
   "outputs": [
    {
     "name": "stdout",
     "output_type": "stream",
     "text": [
      "['10', '1', '2']\n"
     ]
    }
   ],
   "source": [
    "# output should be ['10', '1', '2']\n",
    "#Hint: Check out the last cell\n",
    "#Output should be: ['10','1','2']\n",
    "my_string = \"This string has 10 numbers, but it is only 1 string. I hope you solve this 2day.\"\n",
    "p = re.compile('[0-9]+')\n",
    "\n",
    "answer = p.findall(my_string)\n",
    "\n",
    "print(answer)"
   ]
  },
  {
   "cell_type": "markdown",
   "metadata": {},
   "source": [
    "### Escaping Characters"
   ]
  },
  {
   "cell_type": "markdown",
   "metadata": {},
   "source": [
    "##### \\w - look for any Unicode character<br/>\\W - look for anything that isnt a Unicode character\n",
    "\n",
    "[History on Unicode](http://unicode.org/standard/WhatIsUnicode.html)\n",
    "\n",
    "[More on Unicode Characters](https://en.wikipedia.org/wiki/List_of_Unicode_characters)"
   ]
  },
  {
   "cell_type": "code",
   "execution_count": 48,
   "metadata": {},
   "outputs": [
    {
     "name": "stdout",
     "output_type": "stream",
     "text": [
      "['This', 'is', 'a', 'sentence', 'With', 'an', 'exclamation', 'mark', 'at', 'the', 'end']\n"
     ]
    }
   ],
   "source": [
    "# when using escaping characters you need to make the string raw\n",
    "\n",
    "p = re.compile('[\\w]+')\n",
    "\n",
    "found = p.findall('This is a sentence. With an, exclamation mark at the end!')\n",
    "\n",
    "print(found)"
   ]
  },
  {
   "cell_type": "markdown",
   "metadata": {},
   "source": [
    "##### \\d - look for any digit 0-9<br/>\\D - look for anything that isnt a digit"
   ]
  },
  {
   "cell_type": "code",
   "execution_count": 159,
   "metadata": {},
   "outputs": [
    {
     "name": "stdout",
     "output_type": "stream",
     "text": [
      "['7th', '27th', '3rd', '1st']\n"
     ]
    }
   ],
   "source": [
    "p = re.compile('\\d{1,2}[a-z]{2}') #Find all numbers that have 2 consecutive numbers and have 2 consecutive letters behind them\n",
    "\n",
    "found = p.findall('Today is the 7th, in 20 days it will be the 27th. 3rd, 1st, 55t')\n",
    "\n",
    "print(found)\n",
    "\n",
    "#you can use a \\b or a carat ^ to point it out. "
   ]
  },
  {
   "cell_type": "markdown",
   "metadata": {},
   "source": [
    "##### \\s - look for any white space<br/>\\S - look for anything that isnt whitespace"
   ]
  },
  {
   "cell_type": "markdown",
   "metadata": {},
   "source": [
    "##### \\b - look for boundaries or edges of a word<br/>\\B - look for anything that isnt a boundary"
   ]
  },
  {
   "cell_type": "markdown",
   "metadata": {},
   "source": [
    "### Grouping"
   ]
  },
  {
   "cell_type": "code",
   "execution_count": 49,
   "metadata": {},
   "outputs": [
    {
     "name": "stdout",
     "output_type": "stream",
     "text": [
      "('Max', 'Smith')\n",
      "not a name\n",
      "('Sam', 'Darnold')\n",
      "not a name\n",
      "('Patrick', 'McCormick')\n"
     ]
    }
   ],
   "source": [
    "s = 'Max Smith, aaron richards, Sam Darnold, Kelly brook, Patrick McCormick'\n",
    "\n",
    "#Grouping happens between parentheses \n",
    "\n",
    "p = re.compile('([A-Z][a-z]+)\\s([A-Z][A-Za-z]+)')\n",
    "\n",
    "# found = p.findall(s)\n",
    "\n",
    "# print(found)\n",
    "\n",
    "\n",
    "for name in s.split(','):\n",
    "    match = p.search(name)\n",
    "    \n",
    "    if match:\n",
    "#         print(match.group(2))\n",
    "        print(match.groups())\n",
    "    else:\n",
    "        print('not a name')"
   ]
  },
  {
   "cell_type": "markdown",
   "metadata": {},
   "source": [
    "##### In-class Exercise 2:\n",
    "\n",
    "Write a function using regular expressions to find the domain name in the given email addresses (and return None for the invalid email addresses)<br><b>HINT: Use '|' for either or</b>"
   ]
  },
  {
   "cell_type": "code",
   "execution_count": 112,
   "metadata": {},
   "outputs": [
    {
     "name": "stdout",
     "output_type": "stream",
     "text": [
      "None\n",
      "['pocohontas1776@gmail.com']\n",
      "None\n",
      "['yourfavoriteband@g6.org']\n",
      "None\n"
     ]
    }
   ],
   "source": [
    "my_emails = [\"jordanw@codingtemple.orgcom\", \"pocohontas1776@gmail.com\", \"helloworld@aol..com\",\n",
    "             \"yourfavoriteband@g6.org\", \"@codingtemple.com\"]\n",
    "\n",
    "def validation(email):\n",
    "    p = re.compile('\\w+@\\w+.com$|\\w+@\\w+.org$')\n",
    "    for name in my_emails:\n",
    "        match = p.findall(name)\n",
    "        if match:\n",
    "            print(match)\n",
    "        else:\n",
    "            print(\"None\")\n",
    "            \n",
    "validation(my_emails)\n",
    "\n",
    "#Expected output:\n",
    "#None\n",
    "#pocohontas1776@gmail.com\n",
    "#None\n",
    "#yourfavoriteband@g6.org\n",
    "#None\n",
    "\n",
    "#Hint to stop at certain point use the $ sign also, use a for loop to print the emails\n",
    "\n"
   ]
  },
  {
   "cell_type": "markdown",
   "metadata": {},
   "source": [
    "### Opening a File <br>\n",
    "<p>Python gives us a couple ways to import files, below are the two used most often.</p>"
   ]
  },
  {
   "cell_type": "markdown",
   "metadata": {},
   "source": [
    "##### open()"
   ]
  },
  {
   "cell_type": "code",
   "execution_count": 115,
   "metadata": {},
   "outputs": [
    {
     "name": "stdout",
     "output_type": "stream",
     "text": [
      "Hawkins, Derek\tderek@codingtemple.com\t(555) 555-5555\tTeacher, Coding Temple\t@derekhawkins\n",
      "Zhai, Mo\tmozhai@codingtemple.com\t(555) 555-5554\tTeacher, Coding Temple\n",
      "Johnson, Joe\tjoejohnson@codingtemple.com\t\tJohson, Joe\n",
      "Osterberg, Sven-Erik\tgovernor@norrbotten.co.se\t\tGovernor, Norrbotten\t@sverik\n",
      ", Tim\ttim@killerrabbit.com\t\tEnchanter, Killer Rabbit Cave\n",
      "Butz, Ryan\tryanb@codingtemple.com\t(555) 555-5543\tCEO, Coding Temple\t@ryanbutz\n",
      "Doctor, The\tdoctor+companion@tardis.co.uk\t\tTime Lord, Gallifrey\n",
      "Exampleson, Example\tme@example.com\t555-555-5552\tExample, Example Co.\t@example\n",
      "Pael, Ripal\tripalp@codingtemple.com\t(555) 555-5553\tTeacher, Coding Temple\t@ripalp\n",
      "Vader, Darth\tdarth-vader@empire.gov\t(555) 555-4444\tSith Lord, Galactic Empire\t@darthvader\n",
      "Fernandez de la Vega Sanz, Maria Teresa\tmtfvs@spain.gov\t\tFirst Deputy Prime Minister, Spanish Gov\n",
      "\n"
     ]
    }
   ],
   "source": [
    "# the long way\n",
    "\n",
    "f = open(\"files/names.txt\")\n",
    "\n",
    "data = f.read()\n",
    "\n",
    "\n",
    "# read contents into variable\n",
    "\n",
    "\n",
    "# close the file\n",
    "f.close()\n",
    "print(data)\n",
    "\n",
    "\n"
   ]
  },
  {
   "cell_type": "markdown",
   "metadata": {},
   "source": [
    "##### with open()"
   ]
  },
  {
   "cell_type": "code",
   "execution_count": 116,
   "metadata": {},
   "outputs": [
    {
     "name": "stdout",
     "output_type": "stream",
     "text": [
      "Hawkins, Derek\tderek@codingtemple.com\t(555) 555-5555\tTeacher, Coding Temple\t@derekhawkins\n",
      "Zhai, Mo\tmozhai@codingtemple.com\t(555) 555-5554\tTeacher, Coding Temple\n",
      "Johnson, Joe\tjoejohnson@codingtemple.com\t\tJohson, Joe\n",
      "Osterberg, Sven-Erik\tgovernor@norrbotten.co.se\t\tGovernor, Norrbotten\t@sverik\n",
      ", Tim\ttim@killerrabbit.com\t\tEnchanter, Killer Rabbit Cave\n",
      "Butz, Ryan\tryanb@codingtemple.com\t(555) 555-5543\tCEO, Coding Temple\t@ryanbutz\n",
      "Doctor, The\tdoctor+companion@tardis.co.uk\t\tTime Lord, Gallifrey\n",
      "Exampleson, Example\tme@example.com\t555-555-5552\tExample, Example Co.\t@example\n",
      "Pael, Ripal\tripalp@codingtemple.com\t(555) 555-5553\tTeacher, Coding Temple\t@ripalp\n",
      "Vader, Darth\tdarth-vader@empire.gov\t(555) 555-4444\tSith Lord, Galactic Empire\t@darthvader\n",
      "Fernandez de la Vega Sanz, Maria Teresa\tmtfvs@spain.gov\t\tFirst Deputy Prime Minister, Spanish Gov\n",
      "\n"
     ]
    }
   ],
   "source": [
    "# The short way\n",
    "with open(\"files/names.txt\") as f:\n",
    "    data = f.read()\n",
    "    print(data)\n",
    "\n",
    "\n",
    "    \n",
    "    "
   ]
  },
  {
   "cell_type": "markdown",
   "metadata": {},
   "source": [
    "##### re.match()"
   ]
  },
  {
   "cell_type": "code",
   "execution_count": 121,
   "metadata": {},
   "outputs": [
    {
     "name": "stdout",
     "output_type": "stream",
     "text": [
      "<re.Match object; span=(0, 7), match='Hawkins'>\n"
     ]
    }
   ],
   "source": [
    "# remember match only matches at beginning of string\n",
    "print(re.match(r\"Hawkins\", data))\n",
    "\n",
    "#you have to be very specific with what you want with match. \n"
   ]
  },
  {
   "cell_type": "markdown",
   "metadata": {},
   "source": [
    "##### re.search()"
   ]
  },
  {
   "cell_type": "code",
   "execution_count": 120,
   "metadata": {},
   "outputs": [
    {
     "name": "stdout",
     "output_type": "stream",
     "text": [
      "<re.Match object; span=(0, 7), match='Hawkins'>\n"
     ]
    }
   ],
   "source": [
    "print(re.search(r\"Hawkins\", data))"
   ]
  },
  {
   "cell_type": "markdown",
   "metadata": {},
   "source": [
    "##### Store the String to a Variable"
   ]
  },
  {
   "cell_type": "code",
   "execution_count": 124,
   "metadata": {},
   "outputs": [
    {
     "name": "stdout",
     "output_type": "stream",
     "text": [
      "What would you like to search for?Maria\n",
      "Here's your data:  ['Maria']\n"
     ]
    }
   ],
   "source": [
    "# Store the thing to match inside a variable\n",
    "# you don't always have to assign the compilation into a variable == 're.findall(v, data)'\n",
    "\n",
    "answer = input(\"What would you like to search for?\")\n",
    "\n",
    "found = re.findall(answer, data)\n",
    "\n",
    "if found:\n",
    "    print(\"Here's your data: \", found)\n",
    "else:\n",
    "    print(\"naaahh\")\n",
    "\n"
   ]
  },
  {
   "cell_type": "markdown",
   "metadata": {},
   "source": [
    "### In-Class Exercise #3 <br>\n",
    "<p>Print each persons name and twitter handle, using groups, should look like:</p>\n",
    "<p>==============<br>\n",
    "   Full Name / Twitter<br>\n",
    "   ==============</p>\n",
    "<p>Derek Hawkins / @derekhawkins<br>\n",
    "Norrbotten Governor / @sverik<br>\n",
    "Ryan Butz / @ryanbutz</p>\n",
    "<p>etc.</p>"
   ]
  },
  {
   "cell_type": "code",
   "execution_count": 145,
   "metadata": {
    "scrolled": true
   },
   "outputs": [
    {
     "name": "stdout",
     "output_type": "stream",
     "text": [
      "Hawkins, Derek / @codingtemple\n",
      "Hawkins, Derek / @derekhawkins\n",
      "Hawkins, Derek / @codingtemple\n",
      "Hawkins, Derek / @codingtemple\n",
      "Hawkins, Derek / @norrbotten\n",
      "Hawkins, Derek / @sverik\n",
      "Hawkins, Derek / @killerrabbit\n",
      "Hawkins, Derek / @codingtemple\n",
      "Hawkins, Derek / @ryanbutz\n",
      "Hawkins, Derek / @tardis\n",
      "Hawkins, Derek / @example\n",
      "Hawkins, Derek / @example\n",
      "Hawkins, Derek / @codingtemple\n",
      "Hawkins, Derek / @ripalp\n",
      "Hawkins, Derek / @empire\n",
      "Hawkins, Derek / @darthvader\n",
      "Hawkins, Derek / @spain\n",
      "Teacher, Coding Temple / @codingtemple\n",
      "Teacher, Coding Temple / @derekhawkins\n",
      "Teacher, Coding Temple / @codingtemple\n",
      "Teacher, Coding Temple / @codingtemple\n",
      "Teacher, Coding Temple / @norrbotten\n",
      "Teacher, Coding Temple / @sverik\n",
      "Teacher, Coding Temple / @killerrabbit\n",
      "Teacher, Coding Temple / @codingtemple\n",
      "Teacher, Coding Temple / @ryanbutz\n",
      "Teacher, Coding Temple / @tardis\n",
      "Teacher, Coding Temple / @example\n",
      "Teacher, Coding Temple / @example\n",
      "Teacher, Coding Temple / @codingtemple\n",
      "Teacher, Coding Temple / @ripalp\n",
      "Teacher, Coding Temple / @empire\n",
      "Teacher, Coding Temple / @darthvader\n",
      "Teacher, Coding Temple / @spain\n",
      "Zhai, Mo / @codingtemple\n",
      "Zhai, Mo / @derekhawkins\n",
      "Zhai, Mo / @codingtemple\n",
      "Zhai, Mo / @codingtemple\n",
      "Zhai, Mo / @norrbotten\n",
      "Zhai, Mo / @sverik\n",
      "Zhai, Mo / @killerrabbit\n",
      "Zhai, Mo / @codingtemple\n",
      "Zhai, Mo / @ryanbutz\n",
      "Zhai, Mo / @tardis\n",
      "Zhai, Mo / @example\n",
      "Zhai, Mo / @example\n",
      "Zhai, Mo / @codingtemple\n",
      "Zhai, Mo / @ripalp\n",
      "Zhai, Mo / @empire\n",
      "Zhai, Mo / @darthvader\n",
      "Zhai, Mo / @spain\n",
      "Teacher, Coding Temple / @codingtemple\n",
      "Teacher, Coding Temple / @derekhawkins\n",
      "Teacher, Coding Temple / @codingtemple\n",
      "Teacher, Coding Temple / @codingtemple\n",
      "Teacher, Coding Temple / @norrbotten\n",
      "Teacher, Coding Temple / @sverik\n",
      "Teacher, Coding Temple / @killerrabbit\n",
      "Teacher, Coding Temple / @codingtemple\n",
      "Teacher, Coding Temple / @ryanbutz\n",
      "Teacher, Coding Temple / @tardis\n",
      "Teacher, Coding Temple / @example\n",
      "Teacher, Coding Temple / @example\n",
      "Teacher, Coding Temple / @codingtemple\n",
      "Teacher, Coding Temple / @ripalp\n",
      "Teacher, Coding Temple / @empire\n",
      "Teacher, Coding Temple / @darthvader\n",
      "Teacher, Coding Temple / @spain\n",
      "Johnson, Joe / @codingtemple\n",
      "Johnson, Joe / @derekhawkins\n",
      "Johnson, Joe / @codingtemple\n",
      "Johnson, Joe / @codingtemple\n",
      "Johnson, Joe / @norrbotten\n",
      "Johnson, Joe / @sverik\n",
      "Johnson, Joe / @killerrabbit\n",
      "Johnson, Joe / @codingtemple\n",
      "Johnson, Joe / @ryanbutz\n",
      "Johnson, Joe / @tardis\n",
      "Johnson, Joe / @example\n",
      "Johnson, Joe / @example\n",
      "Johnson, Joe / @codingtemple\n",
      "Johnson, Joe / @ripalp\n",
      "Johnson, Joe / @empire\n",
      "Johnson, Joe / @darthvader\n",
      "Johnson, Joe / @spain\n",
      "Johson, Joe / @codingtemple\n",
      "Johson, Joe / @derekhawkins\n",
      "Johson, Joe / @codingtemple\n",
      "Johson, Joe / @codingtemple\n",
      "Johson, Joe / @norrbotten\n",
      "Johson, Joe / @sverik\n",
      "Johson, Joe / @killerrabbit\n",
      "Johson, Joe / @codingtemple\n",
      "Johson, Joe / @ryanbutz\n",
      "Johson, Joe / @tardis\n",
      "Johson, Joe / @example\n",
      "Johson, Joe / @example\n",
      "Johson, Joe / @codingtemple\n",
      "Johson, Joe / @ripalp\n",
      "Johson, Joe / @empire\n",
      "Johson, Joe / @darthvader\n",
      "Johson, Joe / @spain\n",
      "Osterberg, Sven / @codingtemple\n",
      "Osterberg, Sven / @derekhawkins\n",
      "Osterberg, Sven / @codingtemple\n",
      "Osterberg, Sven / @codingtemple\n",
      "Osterberg, Sven / @norrbotten\n",
      "Osterberg, Sven / @sverik\n",
      "Osterberg, Sven / @killerrabbit\n",
      "Osterberg, Sven / @codingtemple\n",
      "Osterberg, Sven / @ryanbutz\n",
      "Osterberg, Sven / @tardis\n",
      "Osterberg, Sven / @example\n",
      "Osterberg, Sven / @example\n",
      "Osterberg, Sven / @codingtemple\n",
      "Osterberg, Sven / @ripalp\n",
      "Osterberg, Sven / @empire\n",
      "Osterberg, Sven / @darthvader\n",
      "Osterberg, Sven / @spain\n",
      "Governor, Norrbotten / @codingtemple\n",
      "Governor, Norrbotten / @derekhawkins\n",
      "Governor, Norrbotten / @codingtemple\n",
      "Governor, Norrbotten / @codingtemple\n",
      "Governor, Norrbotten / @norrbotten\n",
      "Governor, Norrbotten / @sverik\n",
      "Governor, Norrbotten / @killerrabbit\n",
      "Governor, Norrbotten / @codingtemple\n",
      "Governor, Norrbotten / @ryanbutz\n",
      "Governor, Norrbotten / @tardis\n",
      "Governor, Norrbotten / @example\n",
      "Governor, Norrbotten / @example\n",
      "Governor, Norrbotten / @codingtemple\n",
      "Governor, Norrbotten / @ripalp\n",
      "Governor, Norrbotten / @empire\n",
      "Governor, Norrbotten / @darthvader\n",
      "Governor, Norrbotten / @spain\n",
      "Enchanter, Killer Rabbit Cave / @codingtemple\n",
      "Enchanter, Killer Rabbit Cave / @derekhawkins\n",
      "Enchanter, Killer Rabbit Cave / @codingtemple\n",
      "Enchanter, Killer Rabbit Cave / @codingtemple\n",
      "Enchanter, Killer Rabbit Cave / @norrbotten\n",
      "Enchanter, Killer Rabbit Cave / @sverik\n",
      "Enchanter, Killer Rabbit Cave / @killerrabbit\n",
      "Enchanter, Killer Rabbit Cave / @codingtemple\n",
      "Enchanter, Killer Rabbit Cave / @ryanbutz\n",
      "Enchanter, Killer Rabbit Cave / @tardis\n",
      "Enchanter, Killer Rabbit Cave / @example\n",
      "Enchanter, Killer Rabbit Cave / @example\n",
      "Enchanter, Killer Rabbit Cave / @codingtemple\n",
      "Enchanter, Killer Rabbit Cave / @ripalp\n",
      "Enchanter, Killer Rabbit Cave / @empire\n",
      "Enchanter, Killer Rabbit Cave / @darthvader\n",
      "Enchanter, Killer Rabbit Cave / @spain\n",
      "Butz, Ryan / @codingtemple\n",
      "Butz, Ryan / @derekhawkins\n",
      "Butz, Ryan / @codingtemple\n",
      "Butz, Ryan / @codingtemple\n",
      "Butz, Ryan / @norrbotten\n",
      "Butz, Ryan / @sverik\n",
      "Butz, Ryan / @killerrabbit\n",
      "Butz, Ryan / @codingtemple\n",
      "Butz, Ryan / @ryanbutz\n",
      "Butz, Ryan / @tardis\n",
      "Butz, Ryan / @example\n",
      "Butz, Ryan / @example\n",
      "Butz, Ryan / @codingtemple\n",
      "Butz, Ryan / @ripalp\n",
      "Butz, Ryan / @empire\n",
      "Butz, Ryan / @darthvader\n",
      "Butz, Ryan / @spain\n",
      "CEO, Coding Temple / @codingtemple\n",
      "CEO, Coding Temple / @derekhawkins\n",
      "CEO, Coding Temple / @codingtemple\n",
      "CEO, Coding Temple / @codingtemple\n",
      "CEO, Coding Temple / @norrbotten\n",
      "CEO, Coding Temple / @sverik\n",
      "CEO, Coding Temple / @killerrabbit\n",
      "CEO, Coding Temple / @codingtemple\n",
      "CEO, Coding Temple / @ryanbutz\n",
      "CEO, Coding Temple / @tardis\n",
      "CEO, Coding Temple / @example\n",
      "CEO, Coding Temple / @example\n",
      "CEO, Coding Temple / @codingtemple\n",
      "CEO, Coding Temple / @ripalp\n",
      "CEO, Coding Temple / @empire\n",
      "CEO, Coding Temple / @darthvader\n",
      "CEO, Coding Temple / @spain\n",
      "Doctor, The / @codingtemple\n",
      "Doctor, The / @derekhawkins\n",
      "Doctor, The / @codingtemple\n",
      "Doctor, The / @codingtemple\n",
      "Doctor, The / @norrbotten\n",
      "Doctor, The / @sverik\n",
      "Doctor, The / @killerrabbit\n",
      "Doctor, The / @codingtemple\n",
      "Doctor, The / @ryanbutz\n",
      "Doctor, The / @tardis\n",
      "Doctor, The / @example\n",
      "Doctor, The / @example\n",
      "Doctor, The / @codingtemple\n",
      "Doctor, The / @ripalp\n",
      "Doctor, The / @empire\n",
      "Doctor, The / @darthvader\n",
      "Doctor, The / @spain\n",
      "Time Lord, Gallifrey / @codingtemple\n",
      "Time Lord, Gallifrey / @derekhawkins\n",
      "Time Lord, Gallifrey / @codingtemple\n",
      "Time Lord, Gallifrey / @codingtemple\n",
      "Time Lord, Gallifrey / @norrbotten\n",
      "Time Lord, Gallifrey / @sverik\n",
      "Time Lord, Gallifrey / @killerrabbit\n",
      "Time Lord, Gallifrey / @codingtemple\n",
      "Time Lord, Gallifrey / @ryanbutz\n",
      "Time Lord, Gallifrey / @tardis\n",
      "Time Lord, Gallifrey / @example\n",
      "Time Lord, Gallifrey / @example\n",
      "Time Lord, Gallifrey / @codingtemple\n",
      "Time Lord, Gallifrey / @ripalp\n",
      "Time Lord, Gallifrey / @empire\n",
      "Time Lord, Gallifrey / @darthvader\n",
      "Time Lord, Gallifrey / @spain\n",
      "Exampleson, Example / @codingtemple\n",
      "Exampleson, Example / @derekhawkins\n",
      "Exampleson, Example / @codingtemple\n",
      "Exampleson, Example / @codingtemple\n",
      "Exampleson, Example / @norrbotten\n",
      "Exampleson, Example / @sverik\n",
      "Exampleson, Example / @killerrabbit\n",
      "Exampleson, Example / @codingtemple\n",
      "Exampleson, Example / @ryanbutz\n",
      "Exampleson, Example / @tardis\n",
      "Exampleson, Example / @example\n",
      "Exampleson, Example / @example\n",
      "Exampleson, Example / @codingtemple\n",
      "Exampleson, Example / @ripalp\n",
      "Exampleson, Example / @empire\n",
      "Exampleson, Example / @darthvader\n",
      "Exampleson, Example / @spain\n",
      "Example, Example Co / @codingtemple\n",
      "Example, Example Co / @derekhawkins\n",
      "Example, Example Co / @codingtemple\n",
      "Example, Example Co / @codingtemple\n",
      "Example, Example Co / @norrbotten\n",
      "Example, Example Co / @sverik\n",
      "Example, Example Co / @killerrabbit\n",
      "Example, Example Co / @codingtemple\n",
      "Example, Example Co / @ryanbutz\n",
      "Example, Example Co / @tardis\n",
      "Example, Example Co / @example\n",
      "Example, Example Co / @example\n",
      "Example, Example Co / @codingtemple\n",
      "Example, Example Co / @ripalp\n",
      "Example, Example Co / @empire\n",
      "Example, Example Co / @darthvader\n",
      "Example, Example Co / @spain\n",
      "Pael, Ripal / @codingtemple\n",
      "Pael, Ripal / @derekhawkins\n",
      "Pael, Ripal / @codingtemple\n",
      "Pael, Ripal / @codingtemple\n",
      "Pael, Ripal / @norrbotten\n",
      "Pael, Ripal / @sverik\n",
      "Pael, Ripal / @killerrabbit\n",
      "Pael, Ripal / @codingtemple\n",
      "Pael, Ripal / @ryanbutz\n",
      "Pael, Ripal / @tardis\n",
      "Pael, Ripal / @example\n",
      "Pael, Ripal / @example\n",
      "Pael, Ripal / @codingtemple\n",
      "Pael, Ripal / @ripalp\n",
      "Pael, Ripal / @empire\n",
      "Pael, Ripal / @darthvader\n",
      "Pael, Ripal / @spain\n",
      "Teacher, Coding Temple / @codingtemple\n",
      "Teacher, Coding Temple / @derekhawkins\n",
      "Teacher, Coding Temple / @codingtemple\n",
      "Teacher, Coding Temple / @codingtemple\n",
      "Teacher, Coding Temple / @norrbotten\n",
      "Teacher, Coding Temple / @sverik\n",
      "Teacher, Coding Temple / @killerrabbit\n",
      "Teacher, Coding Temple / @codingtemple\n",
      "Teacher, Coding Temple / @ryanbutz\n",
      "Teacher, Coding Temple / @tardis\n",
      "Teacher, Coding Temple / @example\n",
      "Teacher, Coding Temple / @example\n",
      "Teacher, Coding Temple / @codingtemple\n",
      "Teacher, Coding Temple / @ripalp\n",
      "Teacher, Coding Temple / @empire\n",
      "Teacher, Coding Temple / @darthvader\n",
      "Teacher, Coding Temple / @spain\n",
      "Vader, Darth / @codingtemple\n",
      "Vader, Darth / @derekhawkins\n",
      "Vader, Darth / @codingtemple\n",
      "Vader, Darth / @codingtemple\n",
      "Vader, Darth / @norrbotten\n",
      "Vader, Darth / @sverik\n",
      "Vader, Darth / @killerrabbit\n",
      "Vader, Darth / @codingtemple\n",
      "Vader, Darth / @ryanbutz\n",
      "Vader, Darth / @tardis\n",
      "Vader, Darth / @example\n",
      "Vader, Darth / @example\n",
      "Vader, Darth / @codingtemple\n",
      "Vader, Darth / @ripalp\n",
      "Vader, Darth / @empire\n",
      "Vader, Darth / @darthvader\n",
      "Vader, Darth / @spain\n",
      "Sith Lord, Galactic Empire / @codingtemple\n",
      "Sith Lord, Galactic Empire / @derekhawkins\n",
      "Sith Lord, Galactic Empire / @codingtemple\n",
      "Sith Lord, Galactic Empire / @codingtemple\n",
      "Sith Lord, Galactic Empire / @norrbotten\n",
      "Sith Lord, Galactic Empire / @sverik\n",
      "Sith Lord, Galactic Empire / @killerrabbit\n",
      "Sith Lord, Galactic Empire / @codingtemple\n",
      "Sith Lord, Galactic Empire / @ryanbutz\n",
      "Sith Lord, Galactic Empire / @tardis\n",
      "Sith Lord, Galactic Empire / @example\n",
      "Sith Lord, Galactic Empire / @example\n",
      "Sith Lord, Galactic Empire / @codingtemple\n",
      "Sith Lord, Galactic Empire / @ripalp\n",
      "Sith Lord, Galactic Empire / @empire\n",
      "Sith Lord, Galactic Empire / @darthvader\n",
      "Sith Lord, Galactic Empire / @spain\n",
      "Fernandez de la Vega Sanz, Maria Teresa / @codingtemple\n",
      "Fernandez de la Vega Sanz, Maria Teresa / @derekhawkins\n",
      "Fernandez de la Vega Sanz, Maria Teresa / @codingtemple\n",
      "Fernandez de la Vega Sanz, Maria Teresa / @codingtemple\n",
      "Fernandez de la Vega Sanz, Maria Teresa / @norrbotten\n",
      "Fernandez de la Vega Sanz, Maria Teresa / @sverik\n",
      "Fernandez de la Vega Sanz, Maria Teresa / @killerrabbit\n",
      "Fernandez de la Vega Sanz, Maria Teresa / @codingtemple\n",
      "Fernandez de la Vega Sanz, Maria Teresa / @ryanbutz\n",
      "Fernandez de la Vega Sanz, Maria Teresa / @tardis\n",
      "Fernandez de la Vega Sanz, Maria Teresa / @example\n",
      "Fernandez de la Vega Sanz, Maria Teresa / @example\n",
      "Fernandez de la Vega Sanz, Maria Teresa / @codingtemple\n",
      "Fernandez de la Vega Sanz, Maria Teresa / @ripalp\n",
      "Fernandez de la Vega Sanz, Maria Teresa / @empire\n",
      "Fernandez de la Vega Sanz, Maria Teresa / @darthvader\n",
      "Fernandez de la Vega Sanz, Maria Teresa / @spain\n",
      "First Deputy Prime Minister, Spanish Gov / @codingtemple\n",
      "First Deputy Prime Minister, Spanish Gov / @derekhawkins\n",
      "First Deputy Prime Minister, Spanish Gov / @codingtemple\n",
      "First Deputy Prime Minister, Spanish Gov / @codingtemple\n",
      "First Deputy Prime Minister, Spanish Gov / @norrbotten\n",
      "First Deputy Prime Minister, Spanish Gov / @sverik\n",
      "First Deputy Prime Minister, Spanish Gov / @killerrabbit\n",
      "First Deputy Prime Minister, Spanish Gov / @codingtemple\n",
      "First Deputy Prime Minister, Spanish Gov / @ryanbutz\n",
      "First Deputy Prime Minister, Spanish Gov / @tardis\n",
      "First Deputy Prime Minister, Spanish Gov / @example\n",
      "First Deputy Prime Minister, Spanish Gov / @example\n",
      "First Deputy Prime Minister, Spanish Gov / @codingtemple\n",
      "First Deputy Prime Minister, Spanish Gov / @ripalp\n",
      "First Deputy Prime Minister, Spanish Gov / @empire\n",
      "First Deputy Prime Minister, Spanish Gov / @darthvader\n",
      "First Deputy Prime Minister, Spanish Gov / @spain\n"
     ]
    }
   ],
   "source": [
    "names = re.findall(\"[A-Z a-z]+,+[A-Z a-z]+\", data)\n",
    "twitter = re.findall(\"@\\w+\", data)\n",
    "\n",
    "def juicygoodness(names, twitter):\n",
    "    for name in names:\n",
    "        for tweet in twitter:\n",
    "            print(\"{} / {}\".format(name, tweet))\n",
    "\n",
    "\n",
    "juicygoodness(names, twitter)"
   ]
  },
  {
   "cell_type": "code",
   "execution_count": 161,
   "metadata": {},
   "outputs": [
    {
     "name": "stdout",
     "output_type": "stream",
     "text": [
      "['Hawkins, Derek\\tderek@codingtemple.com\\t(555) 555-5555\\tTeacher, Coding Temple\\t@derekhawkins\\n', 'Zhai, Mo\\tmozhai@codingtemple.com\\t(555) 555-5554\\tTeacher, Coding Temple\\n', 'Johnson, Joe\\tjoejohnson@codingtemple.com\\t\\tJohson, Joe\\n', 'Osterberg, Sven-Erik\\tgovernor@norrbotten.co.se\\t\\tGovernor, Norrbotten\\t@sverik\\n', ', Tim\\ttim@killerrabbit.com\\t\\tEnchanter, Killer Rabbit Cave\\n', 'Butz, Ryan\\tryanb@codingtemple.com\\t(555) 555-5543\\tCEO, Coding Temple\\t@ryanbutz\\n', 'Doctor, The\\tdoctor+companion@tardis.co.uk\\t\\tTime Lord, Gallifrey\\n', 'Exampleson, Example\\tme@example.com\\t555-555-5552\\tExample, Example Co.\\t@example\\n', 'Pael, Ripal\\tripalp@codingtemple.com\\t(555) 555-5553\\tTeacher, Coding Temple\\t@ripalp\\n', 'Vader, Darth\\tdarth-vader@empire.gov\\t(555) 555-4444\\tSith Lord, Galactic Empire\\t@darthvader\\n', 'Fernandez de la Vega Sanz, Maria Teresa\\tmtfvs@spain.gov\\t\\tFirst Deputy Prime Minister, Spanish Gov\\n']\n",
      "================\n",
      "Full Name/ Twitter\n",
      "================\n",
      "Temple Coding/@derekhawkins\n",
      "Temple Coding/@ryanbutz\n",
      "Co Example/@example\n",
      "Temple Coding/@ripalp\n",
      "Lord Sith/@darthvader\n"
     ]
    }
   ],
   "source": [
    "#joel's version.\n",
    "\n",
    "with open(\"files/names.txt\") as f:\n",
    "    data = f.readlines()\n",
    "    print(data)\n",
    "    \n",
    "p = re.compile(r\"([A-Z][a-z]+)\\s([A-Z][a-z]+).*\\s(@[a-zA-Z0-9]+$)\")\n",
    "\n",
    "print(\"================\")\n",
    "print(\"Full Name/ Twitter\")\n",
    "print(\"================\")\n",
    "\n",
    "for person in data:\n",
    "    match = p.search(person)\n",
    "    \n",
    "    if match:\n",
    "        print(match.group(2) + \" \" + match.group(1) + \"/\" + match.group(3) )"
   ]
  },
  {
   "cell_type": "markdown",
   "metadata": {},
   "source": [
    "### Regex project\n",
    "\n",
    "Use python to read the file regex_test.txt and print the last name on each line using regular expressions and groups (return None for names with no first and last name, or names that aren't properly capitalized)\n",
    "##### Hint: use open() and readlines()"
   ]
  },
  {
   "cell_type": "code",
   "execution_count": 197,
   "metadata": {},
   "outputs": [
    {
     "name": "stdout",
     "output_type": "stream",
     "text": [
      "['Abraham Lincoln\\n', 'Andrew P Garfield\\n', 'Connor Milliken\\n', 'Jordan Alexander Williams\\n', 'Madonna\\n', 'programming is cool\\n']\n",
      "Lincoln\n",
      "Garfield\n",
      "Milliken\n",
      "Williams\n",
      "None\n",
      "None\n"
     ]
    }
   ],
   "source": [
    "with open(\"files/regex_test.txt\") as f:\n",
    "    data = f.readlines()\n",
    "    print(data)\n",
    "    \n",
    "    \n",
    "p = re.compile(r\"\\s[A-Z][a-z]+\")\n",
    "d = re.compile(\"[A-z][a-z]+\")\n",
    "\n",
    "\n",
    "for name in data:\n",
    "    match = p.findall(name)\n",
    "    if match:\n",
    "        answer = \"\".join(match[-1])\n",
    "        answer = answer.strip()\n",
    "        print(answer)\n",
    "    else:\n",
    "        print(None)\n"
   ]
  }
 ],
 "metadata": {
  "kernelspec": {
   "display_name": "Python 3",
   "language": "python",
   "name": "python3"
  },
  "language_info": {
   "codemirror_mode": {
    "name": "ipython",
    "version": 3
   },
   "file_extension": ".py",
   "mimetype": "text/x-python",
   "name": "python",
   "nbconvert_exporter": "python",
   "pygments_lexer": "ipython3",
   "version": "3.7.3"
  }
 },
 "nbformat": 4,
 "nbformat_minor": 2
}
